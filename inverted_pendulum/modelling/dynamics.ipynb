{
 "cells": [
  {
   "cell_type": "code",
   "execution_count": 1,
   "id": "d6e14f13-a16d-42df-b678-ecc8b9bea9d6",
   "metadata": {},
   "outputs": [],
   "source": [
    "from sympy import sin, cos, symbols, diff, Matrix\n",
    "from sympy import solve, simplify\n",
    "from sympy.physics.mechanics import *\n",
    "from sympy import Rational\n",
    "import math\n",
    "init_vprinting()"
   ]
  },
  {
   "cell_type": "markdown",
   "id": "26abf661-374f-4141-afc7-a7dbb63ededd",
   "metadata": {
    "tags": []
   },
   "source": [
    "# System Description"
   ]
  },
  {
   "cell_type": "markdown",
   "id": "fcccf46d-ccc5-421d-87f6-e518ea41f360",
   "metadata": {},
   "source": [
    "## coordinate frames"
   ]
  },
  {
   "cell_type": "code",
   "execution_count": 2,
   "id": "fa58b5b8-da21-4846-a12c-b23544bf3f37",
   "metadata": {},
   "outputs": [],
   "source": [
    "Sw = ReferenceFrame('Sw')\n",
    "Sb = ReferenceFrame('Sb')\n",
    "Sptmp = ReferenceFrame('Sptmp')\n",
    "Sp = ReferenceFrame('Sp')\n",
    "Sm2 = ReferenceFrame('Sm2')\n",
    "Sm3 = ReferenceFrame('Sm3')"
   ]
  },
  {
   "cell_type": "markdown",
   "id": "d523b90b-bd6b-4926-a73d-f14d576f4c9c",
   "metadata": {},
   "source": [
    "### general"
   ]
  },
  {
   "cell_type": "code",
   "execution_count": 3,
   "id": "cbda8887-ec09-4702-8c44-c03711f46dd0",
   "metadata": {},
   "outputs": [],
   "source": [
    "t, g, pi = symbols('t g pi')"
   ]
  },
  {
   "cell_type": "markdown",
   "id": "2db38442-5715-4877-bedd-5529091b9dbf",
   "metadata": {},
   "source": [
    "### base"
   ]
  },
  {
   "cell_type": "code",
   "execution_count": 4,
   "id": "7ecb6320-6f3a-437c-9c97-73ba50f0bffe",
   "metadata": {},
   "outputs": [],
   "source": [
    "mb, lb, rw = symbols('m_b l_b r_w')\n",
    "Ibxx, Ibyy, Ibzz = symbols('I_{bxx} I_{byy} I_{bzz}')\n",
    "Ib = inertia(Sb, Ibxx, Ibyy, Ibzz)\n",
    "\n",
    "x, y, alpha = dynamicsymbols('x y alpha')"
   ]
  },
  {
   "cell_type": "markdown",
   "id": "40c67f3c-9274-4a78-8618-4869e55b07f9",
   "metadata": {},
   "source": [
    "### pendulum"
   ]
  },
  {
   "cell_type": "code",
   "execution_count": 5,
   "id": "b2ba3d12-3975-4ea2-9239-30e9ab3c261d",
   "metadata": {},
   "outputs": [],
   "source": [
    "mp, lp = symbols('m_p l_p')\n",
    "#ms, mm, mp, lgp, lp, lm = symbols('m_s m_m m_p l_{gp} l_p l_m') # full description\n",
    "Ipxx, Ipyy, Ipzz = symbols('I_{pxx} I_{pyy} I_{pzz}')\n",
    "Ipxx = Rational(1,12)*mp*lp**2\n",
    "Ip = inertia(Sp, Ipxx, Ipxx, 0)\n",
    "\n",
    "phi, theta = dynamicsymbols('phi theta')\n",
    "#xi, eta, zeta = dynamicsymbols('xi eta zeta')"
   ]
  },
  {
   "cell_type": "markdown",
   "id": "5d0b205a-5bd9-480f-862b-f5ca08cde230",
   "metadata": {
    "tags": []
   },
   "source": [
    "### motor"
   ]
  },
  {
   "cell_type": "code",
   "execution_count": 6,
   "id": "d91e49e1-2fec-422c-a6fd-18a37cf431d0",
   "metadata": {},
   "outputs": [],
   "source": [
    "f1, f2, f3 = dynamicsymbols('f1 f2 f3')"
   ]
  },
  {
   "cell_type": "markdown",
   "id": "3b78b51f-05c1-4128-ba58-11291c3939ec",
   "metadata": {},
   "source": [
    "# Basic Calculation"
   ]
  },
  {
   "cell_type": "markdown",
   "id": "fbde6671-e04e-4d1e-aac1-832b64a848b7",
   "metadata": {},
   "source": [
    "## state"
   ]
  },
  {
   "cell_type": "code",
   "execution_count": 7,
   "id": "7babbd21-84c4-46dd-be6c-7a1aae21a2e5",
   "metadata": {},
   "outputs": [],
   "source": [
    "q = Matrix([x, y, alpha, phi, theta])\n",
    "qd = q.diff(t)"
   ]
  },
  {
   "cell_type": "markdown",
   "id": "453eace6-e102-492f-b258-a0166176a5a4",
   "metadata": {},
   "source": [
    "## coordinates transformation"
   ]
  },
  {
   "cell_type": "code",
   "execution_count": 8,
   "id": "73a91184-6da7-40fa-8a35-cd33d8c680b6",
   "metadata": {},
   "outputs": [],
   "source": [
    "Sb.orient(Sw, 'Axis', [alpha, Sw.z])\n",
    "\n",
    "Sptmp.orient(Sw, 'Axis', [phi, Sw.x]);\n",
    "Sp.orient(Sptmp, 'Axis', [theta, Sptmp.y]);\n",
    "#Sp.set_ang_vel(Sw, phi.diff(t)*cos(theta)*Sw.x + theta.diff(t)*Sw.y + sin(theta)*phi.diff(t)*Sw.z) # omega\n",
    "#display(Sp.ang_vel_in(Sw))"
   ]
  },
  {
   "cell_type": "markdown",
   "id": "908c30c7-aa49-48fe-8030-53b666133da5",
   "metadata": {},
   "source": [
    "## point"
   ]
  },
  {
   "cell_type": "markdown",
   "id": "2db7f223-58ff-4e5c-8661-d8a1bccaa31c",
   "metadata": {},
   "source": [
    "### world"
   ]
  },
  {
   "cell_type": "code",
   "execution_count": 9,
   "id": "2d993e80-bf98-45b9-b289-51de1758c267",
   "metadata": {},
   "outputs": [],
   "source": [
    "Pwo = Point('Pwo')\n",
    "Pwo.set_vel(Sw, 0)"
   ]
  },
  {
   "cell_type": "markdown",
   "id": "9c31ca0f-eb0c-4ffb-8d50-d46630ea1ed6",
   "metadata": {},
   "source": [
    "### body"
   ]
  },
  {
   "cell_type": "code",
   "execution_count": 10,
   "id": "f1e9cce6-8f04-4aeb-8f61-ba9b871c639c",
   "metadata": {},
   "outputs": [],
   "source": [
    "Pbo = Point('Pbo')\n",
    "Pbo.set_pos(Pwo, x*Sw.x + y*Sw.y + 0*Sw.z)\n",
    "Pbo.set_vel(Sw, Pbo.pos_from(Pwo).dt(Sw))"
   ]
  },
  {
   "cell_type": "markdown",
   "id": "4f5bc6e5-124c-4244-83ad-67589c0e7f21",
   "metadata": {},
   "source": [
    "### pendulum"
   ]
  },
  {
   "cell_type": "code",
   "execution_count": 11,
   "id": "afd6718f-dd4c-4f42-8849-30bfaf298661",
   "metadata": {},
   "outputs": [],
   "source": [
    "Ppo = Point('Ppo')\n",
    "Ppo.set_pos(Pwo, x*Sw.x + y*Sw.y + Rational(1,2)*lp*Sp.z)\n",
    "#Ppo.set_pos(Pwo, Rational(1,2)*lp*Sp.z) # only pendulum case: just for debug\n",
    "Ppo.set_vel(Sw, Ppo.pos_from(Pwo).dt(Sw))"
   ]
  },
  {
   "cell_type": "markdown",
   "id": "617d5361-21ad-4b38-8d04-235fb6c311dc",
   "metadata": {},
   "source": [
    "### motor"
   ]
  },
  {
   "cell_type": "code",
   "execution_count": 12,
   "id": "2b06f6a8-4b88-4c39-85f2-883bc208969a",
   "metadata": {},
   "outputs": [],
   "source": [
    "Sm1 = Sb\n",
    "Pm1 = Point(\"Pm1\")\n",
    "Pm1.set_pos(Pbo, lb*Sm1.x + 0*Sm1.y + 0*Sm1.z)\n",
    "\n",
    "Sm2.orient(Sb, 'Axis', [Rational(2, 3)*pi, Sb.z])\n",
    "Pm2 = Point(\"Pm2\")\n",
    "Pm2.set_pos(Pbo, lb*Sm2.x + 0*Sm2.y + 0*Sm2.z)\n",
    "\n",
    "Sm3.orient(Sb, 'Axis', [Rational(4, 3)*pi, Sb.z])\n",
    "Pm3 = Point(\"Pm3\")\n",
    "Pm3.set_pos(Pbo, lb*Sm3.x + 0*Sm3.y + 0*Sm3.z)"
   ]
  },
  {
   "cell_type": "markdown",
   "id": "83ca3924-45d9-4926-a3a7-8b539b1e2afc",
   "metadata": {},
   "source": [
    "## position and velocity"
   ]
  },
  {
   "cell_type": "code",
   "execution_count": 13,
   "id": "551259b7-52fd-4b08-958d-6b0d172a9aba",
   "metadata": {},
   "outputs": [
    {
     "data": {
      "image/png": "[encoded data removed]",
      "text/latex": [
       "$\\displaystyle (\\frac{l_{p} \\sin{\\left(\\theta \\right)}}{2} + x)\\mathbf{\\hat{sw}_x} + (- \\frac{l_{p} \\sin{\\left(\\phi \\right)} \\cos{\\left(\\theta \\right)}}{2} + y)\\mathbf{\\hat{sw}_y} + \\frac{l_{p} \\cos{\\left(\\phi \\right)} \\cos{\\left(\\theta \\right)}}{2}\\mathbf{\\hat{sw}_z}$"
      ],
      "text/plain": [
       "⎛lₚ⋅sin(θ)    ⎞        ⎛  lₚ⋅sin(φ)⋅cos(θ)    ⎞        lₚ⋅cos(φ)⋅cos(θ)\n",
       "⎜───────── + x⎟ sw_x + ⎜- ──────────────── + y⎟ sw_y + ──────────────── sw_z\n",
       "⎝    2        ⎠        ⎝         2            ⎠               2"
      ]
     },
     "metadata": {},
     "output_type": "display_data"
    }
   ],
   "source": [
    "BodyB = RigidBody('BodyB', Pbo, Sb, mb, (Ib, Pbo))\n",
    "BodyP = RigidBody('BodyP', Ppo, Sp, mp, (Ip, Ppo))\n",
    "p_cog_pos = (Ppo.pos_from(Pwo).express(Sw)).simplify()\n",
    "display(p_cog_pos)\n",
    "\n",
    "BodyP.potential_energy = mp * g * Rational(1,2) * lp * cos(phi) * cos(theta);\n",
    "#display(BodyB.kinetic_energy)"
   ]
  },
  {
   "cell_type": "markdown",
   "id": "8cf24e48-e6c8-4625-a1f4-ed6d8c6edc7e",
   "metadata": {},
   "source": [
    "## force from wheels"
   ]
  },
  {
   "cell_type": "code",
   "execution_count": 14,
   "id": "91c4ed5e-c6a2-4d5e-ad78-774fe59130e3",
   "metadata": {},
   "outputs": [],
   "source": [
    "fl1 = (Pm1, f1*Sm1.y)\n",
    "fl2 = (Pm2, f2*Sm2.y)\n",
    "fl3 = (Pm3, f3*Sm3.y)\n",
    "fl = [fl1, fl2, fl3]"
   ]
  },
  {
   "cell_type": "markdown",
   "id": "c56fe18d-5637-4ba3-ba6b-e56a18b393c8",
   "metadata": {},
   "source": [
    "# Lagrangian"
   ]
  },
  {
   "cell_type": "markdown",
   "id": "3a8b1566-e8df-4b60-8459-05303924c2bb",
   "metadata": {},
   "source": [
    "## equation of motion"
   ]
  },
  {
   "cell_type": "code",
   "execution_count": 15,
   "id": "d24a563d-7034-4b94-90e9-756ec6ba546a",
   "metadata": {},
   "outputs": [
    {
     "data": {
      "text/latex": [
       "$\\displaystyle \\left[\\begin{matrix}m_{b} \\ddot{x} + \\frac{m_{p} \\left(- l_{p} \\sin{\\left(\\theta \\right)} \\dot{\\theta}^{2} + l_{p} \\cos{\\left(\\theta \\right)} \\ddot{\\theta} + 2 \\ddot{x}\\right)}{2} + f_{1} \\sin{\\left(\\alpha \\right)} + f_{2} \\sin{\\left(\\frac{2 \\pi}{3} + \\alpha \\right)} + f_{3} \\sin{\\left(\\frac{4 \\pi}{3} + \\alpha \\right)}\\\\m_{b} \\ddot{y} + \\frac{m_{p} \\left(l_{p} \\sin{\\left(\\phi \\right)} \\sin{\\left(\\theta \\right)} \\ddot{\\theta} + l_{p} \\sin{\\left(\\phi \\right)} \\cos{\\left(\\theta \\right)} \\dot{\\phi}^{2} + l_{p} \\sin{\\left(\\phi \\right)} \\cos{\\left(\\theta \\right)} \\dot{\\theta}^{2} + 2 l_{p} \\sin{\\left(\\theta \\right)} \\cos{\\left(\\phi \\right)} \\dot{\\phi} \\dot{\\theta} - l_{p} \\cos{\\left(\\phi \\right)} \\cos{\\left(\\theta \\right)} \\ddot{\\phi} + 2 \\ddot{y}\\right)}{2} - f_{1} \\cos{\\left(\\alpha \\right)} - f_{2} \\cos{\\left(\\frac{2 \\pi}{3} + \\alpha \\right)} - f_{3} \\cos{\\left(\\frac{4 \\pi}{3} + \\alpha \\right)}\\\\I_{bzz} \\ddot{\\alpha} - l_{b} f_{1} - l_{b} f_{2} - l_{b} f_{3}\\\\\\frac{l_{p} m_{p} \\left(- 3 g \\sin{\\left(\\phi \\right)} - 4 l_{p} \\sin{\\left(\\theta \\right)} \\dot{\\phi} \\dot{\\theta} + 2 l_{p} \\cos{\\left(\\theta \\right)} \\ddot{\\phi} - 3 \\cos{\\left(\\phi \\right)} \\ddot{y}\\right) \\cos{\\left(\\theta \\right)}}{6}\\\\\\frac{l_{p} m_{p} \\left(- 3 g \\sin{\\left(\\theta \\right)} \\cos{\\left(\\phi \\right)} + l_{p} \\sin{\\left(2 \\theta \\right)} \\dot{\\phi}^{2} + 2 l_{p} \\ddot{\\theta} + 3 \\sin{\\left(\\phi \\right)} \\sin{\\left(\\theta \\right)} \\ddot{y} + 3 \\cos{\\left(\\theta \\right)} \\ddot{x}\\right)}{6}\\end{matrix}\\right]$"
      ],
      "text/plain": [
       "⎡                                                   ⎛             2                    ⎞           \n",
       "⎢                                                mₚ⋅⎝- lₚ⋅sin(θ)⋅θ̇  + lₚ⋅cos(θ)⋅θ̈ + 2⋅ẍ⎠        \n",
       "⎢                                        m_b⋅ẍ + ─────────────────────────────────────── + f₁⋅sin(\n",
       "⎢                                                                   2                              \n",
       "⎢                                                                                                  \n",
       "⎢           ⎛                                       2                     2                        \n",
       "⎢        mₚ⋅⎝lₚ⋅sin(φ)⋅sin(θ)⋅θ̈ + lₚ⋅sin(φ)⋅cos(θ)⋅φ̇  + lₚ⋅sin(φ)⋅cos(θ)⋅θ̇  + 2⋅lₚ⋅sin(θ)⋅cos(φ)\n",
       "⎢m_b⋅ÿ + ─────────────────────────────────────────────────────────────────────────────────────────\n",
       "⎢                                                                   2                              \n",
       "⎢                                                                                                  \n",
       "⎢                                                                     I_{bzz}⋅α̈ - l_b⋅f₁ - l_b⋅f₂ \n",
       "⎢                                                                                                  \n",
       "⎢                                                   lₚ⋅mₚ⋅(-3⋅g⋅sin(φ) - 4⋅lₚ⋅sin(θ)⋅φ̇⋅θ̇ + 2⋅lₚ⋅c\n",
       "⎢                                                   ───────────────────────────────────────────────\n",
       "⎢                                                                                       6          \n",
       "⎢                                                                                                  \n",
       "⎢                                                   ⎛                                  2           \n",
       "⎢                                             lₚ⋅mₚ⋅⎝-3⋅g⋅sin(θ)⋅cos(φ) + lₚ⋅sin(2⋅θ)⋅φ̇  + 2⋅lₚ⋅θ̈\n",
       "⎢                                             ─────────────────────────────────────────────────────\n",
       "⎣                                                                                       6          \n",
       "\n",
       "                                                                             ⎤\n",
       "             ⎛2⋅π    ⎞         ⎛4⋅π    ⎞                                        ⎥\n",
       "α) + f₂⋅sin⎜─── + α⎟ + f₃⋅sin⎜─── + α⎟                                        ⎥\n",
       "          ⎝ 3     ⎠         ⎝ 3     ⎠                                        ⎥\n",
       "                                                                             ⎥\n",
       "                            ⎞                                                ⎥\n",
       "⋅φ̇⋅θ̇ - lₚ⋅cos(φ)⋅cos(θ)⋅φ̈ + 2⋅ÿ⎠                     ⎛2⋅π    ⎞         ⎛4⋅π    ⎞⎥\n",
       "────────────────────────────── - f₁⋅cos(α) - f₂⋅cos⎜─── + α⎟ - f₃⋅cos⎜─── + α⎟⎥\n",
       "                                                  ⎝ 3     ⎠         ⎝ 3     ⎠⎥\n",
       "                                                                             ⎥\n",
       "- l_b⋅f₃                                                                      ⎥\n",
       "                                                                             ⎥\n",
       "os(θ)⋅φ̈ - 3⋅cos(φ)⋅ÿ)⋅cos(θ)                                                   ⎥\n",
       "──────────────────────────                                                   ⎥\n",
       "                                                                             ⎥\n",
       "                                                                             ⎥\n",
       "                               ⎞                                             ⎥\n",
       " + 3⋅sin(φ)⋅sin(θ)⋅ÿ + 3⋅cos(θ)⋅ẍ⎠                                             ⎥\n",
       "────────────────────────────────                                             ⎥\n",
       "                                                                             ⎦"
      ]
     },
     "metadata": {},
     "output_type": "display_data"
    },
    {
     "data": {
      "text/latex": [
       "$\\displaystyle \\left[\\begin{matrix}\\dot{x}\\\\\\dot{y}\\\\\\dot{\\alpha}\\\\\\dot{\\phi}\\\\\\dot{\\theta}\\\\\\frac{m_{p} \\left(3 m_{p} \\left(2 \\left(m_{b} + m_{p}\\right) \\left(3 g \\sin{\\left(\\phi \\right)} + 4 l_{p} \\sin{\\left(\\theta \\right)} \\dot{\\phi} \\dot{\\theta}\\right) + 3 \\left(- l_{p} m_{p} \\left(\\sin{\\left(\\phi \\right)} \\cos{\\left(\\theta \\right)} \\dot{\\phi}^{2} + \\sin{\\left(\\phi \\right)} \\cos{\\left(\\theta \\right)} \\dot{\\theta}^{2} + 2 \\sin{\\left(\\theta \\right)} \\cos{\\left(\\phi \\right)} \\dot{\\phi} \\dot{\\theta}\\right) + 2 f_{1} \\cos{\\left(\\alpha \\right)} + 2 f_{2} \\cos{\\left(\\frac{2 \\pi}{3} + \\alpha \\right)} + 2 f_{3} \\cos{\\left(\\frac{4 \\pi}{3} + \\alpha \\right)}\\right) \\cos{\\left(\\phi \\right)}\\right) \\sin{\\left(\\phi \\right)} \\sin{\\left(\\theta \\right)} \\cos{\\left(\\phi \\right)} - 2 \\left(m_{b} + m_{p}\\right) \\left(3 g \\cos{\\left(\\phi \\right)} - 2 l_{p} \\cos{\\left(\\theta \\right)} \\dot{\\phi}^{2}\\right) \\left(4 m_{b} + 3 m_{p} \\sin^{2}{\\left(\\phi \\right)} + m_{p}\\right) \\sin{\\left(\\theta \\right)} + 3 \\left(\\left(- l_{p} m_{p} \\left(\\sin{\\left(\\phi \\right)} \\cos{\\left(\\theta \\right)} \\dot{\\phi}^{2} + \\sin{\\left(\\phi \\right)} \\cos{\\left(\\theta \\right)} \\dot{\\theta}^{2} + 2 \\sin{\\left(\\theta \\right)} \\cos{\\left(\\phi \\right)} \\dot{\\phi} \\dot{\\theta}\\right) + 2 f_{1} \\cos{\\left(\\alpha \\right)} + 2 f_{2} \\cos{\\left(\\frac{2 \\pi}{3} + \\alpha \\right)} + 2 f_{3} \\cos{\\left(\\frac{4 \\pi}{3} + \\alpha \\right)}\\right) \\sin{\\left(\\phi \\right)} \\sin{\\left(\\theta \\right)} - \\left(- l_{p} m_{p} \\sin{\\left(\\theta \\right)} \\dot{\\theta}^{2} + 2 f_{1} \\sin{\\left(\\alpha \\right)} + 2 f_{2} \\sin{\\left(\\frac{2 \\pi}{3} + \\alpha \\right)} + 2 f_{3} \\sin{\\left(\\frac{4 \\pi}{3} + \\alpha \\right)}\\right) \\cos{\\left(\\theta \\right)}\\right) \\left(4 m_{b} + 3 m_{p} \\sin^{2}{\\left(\\phi \\right)} + m_{p}\\right)\\right) \\cos{\\left(\\theta \\right)} - \\left(- l_{p} m_{p} \\sin{\\left(\\theta \\right)} \\dot{\\theta}^{2} + 2 f_{1} \\sin{\\left(\\alpha \\right)} + 2 f_{2} \\sin{\\left(\\frac{2 \\pi}{3} + \\alpha \\right)} + 2 f_{3} \\sin{\\left(\\frac{4 \\pi}{3} + \\alpha \\right)}\\right) \\left(16 m_{b}^{2} - 12 m_{b} m_{p} \\cos^{2}{\\left(\\phi \\right)} \\cos^{2}{\\left(\\theta \\right)} + 20 m_{b} m_{p} - 3 m_{p}^{2} \\cos^{2}{\\left(\\phi \\right)} \\cos^{2}{\\left(\\theta \\right)} + 4 m_{p}^{2}\\right)}{2 \\left(m_{b} + m_{p}\\right) \\left(16 m_{b}^{2} - 12 m_{b} m_{p} \\cos^{2}{\\left(\\phi \\right)} \\cos^{2}{\\left(\\theta \\right)} + 20 m_{b} m_{p} - 3 m_{p}^{2} \\cos^{2}{\\left(\\phi \\right)} \\cos^{2}{\\left(\\theta \\right)} + 4 m_{p}^{2}\\right)}\\\\\\frac{- 12 g m_{b} m_{p} \\sin{\\left(\\phi \\right)} \\sin^{2}{\\left(\\theta \\right)} \\cos{\\left(\\phi \\right)} + 6 g m_{b} m_{p} \\sin{\\left(2 \\phi \\right)} - 12 g m_{p}^{2} \\sin{\\left(\\phi \\right)} \\sin^{2}{\\left(\\theta \\right)} \\cos{\\left(\\phi \\right)} - 9 g m_{p}^{2} \\sin{\\left(\\phi \\right)} \\cos{\\left(\\phi \\right)} \\cos^{2}{\\left(\\theta \\right)} + 6 g m_{p}^{2} \\sin{\\left(2 \\phi \\right)} + 8 l_{p} m_{b} m_{p} \\sin{\\left(\\phi \\right)} \\sin^{2}{\\left(\\theta \\right)} \\cos{\\left(\\theta \\right)} \\dot{\\phi}^{2} - 8 l_{p} m_{b} m_{p} \\sin{\\left(\\phi \\right)} \\cos{\\left(\\theta \\right)} \\dot{\\phi}^{2} - 8 l_{p} m_{b} m_{p} \\sin{\\left(\\phi \\right)} \\cos{\\left(\\theta \\right)} \\dot{\\theta}^{2} + 8 l_{p} m_{p}^{2} \\sin{\\left(\\phi \\right)} \\sin^{2}{\\left(\\theta \\right)} \\cos{\\left(\\theta \\right)} \\dot{\\phi}^{2} + 6 l_{p} m_{p}^{2} \\sin{\\left(\\phi \\right)} \\sin^{2}{\\left(\\theta \\right)} \\cos{\\left(\\theta \\right)} \\dot{\\theta}^{2} + 6 l_{p} m_{p}^{2} \\sin{\\left(\\phi \\right)} \\cos^{3}{\\left(\\theta \\right)} \\dot{\\phi}^{2} + 6 l_{p} m_{p}^{2} \\sin{\\left(\\phi \\right)} \\cos^{3}{\\left(\\theta \\right)} \\dot{\\theta}^{2} - 8 l_{p} m_{p}^{2} \\sin{\\left(\\phi \\right)} \\cos{\\left(\\theta \\right)} \\dot{\\phi}^{2} - 8 l_{p} m_{p}^{2} \\sin{\\left(\\phi \\right)} \\cos{\\left(\\theta \\right)} \\dot{\\theta}^{2} + 16 m_{b} f_{1} \\cos{\\left(\\alpha \\right)} - 16 m_{b} f_{2} \\sin{\\left(\\frac{2 \\pi}{3} \\right)} \\sin{\\left(\\alpha \\right)} + 16 m_{b} f_{2} \\cos{\\left(\\frac{2 \\pi}{3} \\right)} \\cos{\\left(\\alpha \\right)} - 16 m_{b} f_{3} \\sin{\\left(\\frac{4 \\pi}{3} \\right)} \\sin{\\left(\\alpha \\right)} + 16 m_{b} f_{3} \\cos{\\left(\\frac{4 \\pi}{3} \\right)} \\cos{\\left(\\alpha \\right)} - 12 m_{p} f_{1} \\sin{\\left(\\alpha \\right)} \\sin{\\left(\\phi \\right)} \\sin{\\left(\\theta \\right)} \\cos{\\left(\\theta \\right)} - 12 m_{p} f_{1} \\cos{\\left(\\alpha \\right)} \\cos^{2}{\\left(\\theta \\right)} + 16 m_{p} f_{1} \\cos{\\left(\\alpha \\right)} + 12 m_{p} f_{2} \\sin{\\left(\\frac{2 \\pi}{3} \\right)} \\sin{\\left(\\alpha \\right)} \\cos^{2}{\\left(\\theta \\right)} - 16 m_{p} f_{2} \\sin{\\left(\\frac{2 \\pi}{3} \\right)} \\sin{\\left(\\alpha \\right)} - 12 m_{p} f_{2} \\sin{\\left(\\frac{2 \\pi}{3} \\right)} \\sin{\\left(\\phi \\right)} \\sin{\\left(\\theta \\right)} \\cos{\\left(\\alpha \\right)} \\cos{\\left(\\theta \\right)} - 12 m_{p} f_{2} \\sin{\\left(\\alpha \\right)} \\sin{\\left(\\phi \\right)} \\sin{\\left(\\theta \\right)} \\cos{\\left(\\frac{2 \\pi}{3} \\right)} \\cos{\\left(\\theta \\right)} - 12 m_{p} f_{2} \\cos{\\left(\\frac{2 \\pi}{3} \\right)} \\cos{\\left(\\alpha \\right)} \\cos^{2}{\\left(\\theta \\right)} + 16 m_{p} f_{2} \\cos{\\left(\\frac{2 \\pi}{3} \\right)} \\cos{\\left(\\alpha \\right)} + 12 m_{p} f_{3} \\sin{\\left(\\frac{4 \\pi}{3} \\right)} \\sin{\\left(\\alpha \\right)} \\cos^{2}{\\left(\\theta \\right)} - 16 m_{p} f_{3} \\sin{\\left(\\frac{4 \\pi}{3} \\right)} \\sin{\\left(\\alpha \\right)} - 12 m_{p} f_{3} \\sin{\\left(\\frac{4 \\pi}{3} \\right)} \\sin{\\left(\\phi \\right)} \\sin{\\left(\\theta \\right)} \\cos{\\left(\\alpha \\right)} \\cos{\\left(\\theta \\right)} - 12 m_{p} f_{3} \\sin{\\left(\\alpha \\right)} \\sin{\\left(\\phi \\right)} \\sin{\\left(\\theta \\right)} \\cos{\\left(\\frac{4 \\pi}{3} \\right)} \\cos{\\left(\\theta \\right)} - 12 m_{p} f_{3} \\cos{\\left(\\frac{4 \\pi}{3} \\right)} \\cos{\\left(\\alpha \\right)} \\cos^{2}{\\left(\\theta \\right)} + 16 m_{p} f_{3} \\cos{\\left(\\frac{4 \\pi}{3} \\right)} \\cos{\\left(\\alpha \\right)}}{16 m_{b}^{2} - 12 m_{b} m_{p} \\cos^{2}{\\left(\\phi \\right)} \\cos^{2}{\\left(\\theta \\right)} + 20 m_{b} m_{p} - 3 m_{p}^{2} \\cos^{2}{\\left(\\phi \\right)} \\cos^{2}{\\left(\\theta \\right)} + 4 m_{p}^{2}}\\\\\\frac{l_{b} \\left(f_{1} + f_{2} + f_{3}\\right)}{I_{bzz}}\\\\\\frac{3 m_{p} \\left(3 m_{p} \\left(2 \\left(m_{b} + m_{p}\\right) \\left(3 g \\sin{\\left(\\phi \\right)} + 4 l_{p} \\sin{\\left(\\theta \\right)} \\dot{\\phi} \\dot{\\theta}\\right) + 3 \\left(- l_{p} m_{p} \\left(\\sin{\\left(\\phi \\right)} \\cos{\\left(\\theta \\right)} \\dot{\\phi}^{2} + \\sin{\\left(\\phi \\right)} \\cos{\\left(\\theta \\right)} \\dot{\\theta}^{2} + 2 \\sin{\\left(\\theta \\right)} \\cos{\\left(\\phi \\right)} \\dot{\\phi} \\dot{\\theta}\\right) + 2 f_{1} \\cos{\\left(\\alpha \\right)} + 2 f_{2} \\cos{\\left(\\frac{2 \\pi}{3} + \\alpha \\right)} + 2 f_{3} \\cos{\\left(\\frac{4 \\pi}{3} + \\alpha \\right)}\\right) \\cos{\\left(\\phi \\right)}\\right) \\sin{\\left(\\phi \\right)} \\sin{\\left(\\theta \\right)} \\cos{\\left(\\phi \\right)} + 2 \\left(m_{b} + m_{p}\\right) \\left(- 3 g \\cos{\\left(\\phi \\right)} + 2 l_{p} \\cos{\\left(\\theta \\right)} \\dot{\\phi}^{2}\\right) \\left(4 m_{b} + 3 m_{p} \\sin^{2}{\\left(\\phi \\right)} + m_{p}\\right) \\sin{\\left(\\theta \\right)} + 3 \\left(\\left(- l_{p} m_{p} \\left(\\sin{\\left(\\phi \\right)} \\cos{\\left(\\theta \\right)} \\dot{\\phi}^{2} + \\sin{\\left(\\phi \\right)} \\cos{\\left(\\theta \\right)} \\dot{\\theta}^{2} + 2 \\sin{\\left(\\theta \\right)} \\cos{\\left(\\phi \\right)} \\dot{\\phi} \\dot{\\theta}\\right) + 2 f_{1} \\cos{\\left(\\alpha \\right)} + 2 f_{2} \\cos{\\left(\\frac{2 \\pi}{3} + \\alpha \\right)} + 2 f_{3} \\cos{\\left(\\frac{4 \\pi}{3} + \\alpha \\right)}\\right) \\sin{\\left(\\phi \\right)} \\sin{\\left(\\theta \\right)} - \\left(- l_{p} m_{p} \\sin{\\left(\\theta \\right)} \\dot{\\theta}^{2} + 2 f_{1} \\sin{\\left(\\alpha \\right)} + 2 f_{2} \\sin{\\left(\\frac{2 \\pi}{3} + \\alpha \\right)} + 2 f_{3} \\sin{\\left(\\frac{4 \\pi}{3} + \\alpha \\right)}\\right) \\cos{\\left(\\theta \\right)}\\right) \\left(4 m_{b} + 3 m_{p} \\sin^{2}{\\left(\\phi \\right)} + m_{p}\\right)\\right) \\sin{\\left(\\phi \\right)} \\sin{\\left(\\theta \\right)} \\cos{\\left(\\phi \\right)} + 2 \\left(m_{b} + m_{p}\\right) \\left(3 g \\sin{\\left(\\phi \\right)} + 4 l_{p} \\sin{\\left(\\theta \\right)} \\dot{\\phi} \\dot{\\theta}\\right) \\left(16 m_{b}^{2} - 12 m_{b} m_{p} \\cos^{2}{\\left(\\phi \\right)} \\cos^{2}{\\left(\\theta \\right)} + 20 m_{b} m_{p} - 3 m_{p}^{2} \\cos^{2}{\\left(\\phi \\right)} \\cos^{2}{\\left(\\theta \\right)} + 4 m_{p}^{2}\\right) - 3 \\left(l_{p} m_{p} \\left(\\sin{\\left(\\phi \\right)} \\cos{\\left(\\theta \\right)} \\dot{\\phi}^{2} + \\sin{\\left(\\phi \\right)} \\cos{\\left(\\theta \\right)} \\dot{\\theta}^{2} + 2 \\sin{\\left(\\theta \\right)} \\cos{\\left(\\phi \\right)} \\dot{\\phi} \\dot{\\theta}\\right) - 2 f_{1} \\cos{\\left(\\alpha \\right)} - 2 f_{2} \\cos{\\left(\\frac{2 \\pi}{3} + \\alpha \\right)} - 2 f_{3} \\cos{\\left(\\frac{4 \\pi}{3} + \\alpha \\right)}\\right) \\left(16 m_{b}^{2} - 12 m_{b} m_{p} \\cos^{2}{\\left(\\phi \\right)} \\cos^{2}{\\left(\\theta \\right)} + 20 m_{b} m_{p} - 3 m_{p}^{2} \\cos^{2}{\\left(\\phi \\right)} \\cos^{2}{\\left(\\theta \\right)} + 4 m_{p}^{2}\\right) \\cos{\\left(\\phi \\right)}}{l_{p} \\left(4 m_{b} + 3 m_{p} \\sin^{2}{\\left(\\phi \\right)} + m_{p}\\right) \\left(16 m_{b}^{2} - 12 m_{b} m_{p} \\cos^{2}{\\left(\\phi \\right)} \\cos^{2}{\\left(\\theta \\right)} + 20 m_{b} m_{p} - 3 m_{p}^{2} \\cos^{2}{\\left(\\phi \\right)} \\cos^{2}{\\left(\\theta \\right)} + 4 m_{p}^{2}\\right) \\cos{\\left(\\theta \\right)}}\\\\- \\frac{3 m_{p} \\left(2 \\left(m_{b} + m_{p}\\right) \\left(3 g \\sin{\\left(\\phi \\right)} + 4 l_{p} \\sin{\\left(\\theta \\right)} \\dot{\\phi} \\dot{\\theta}\\right) + 3 \\left(- l_{p} m_{p} \\left(\\sin{\\left(\\phi \\right)} \\cos{\\left(\\theta \\right)} \\dot{\\phi}^{2} + \\sin{\\left(\\phi \\right)} \\cos{\\left(\\theta \\right)} \\dot{\\theta}^{2} + 2 \\sin{\\left(\\theta \\right)} \\cos{\\left(\\phi \\right)} \\dot{\\phi} \\dot{\\theta}\\right) + 2 f_{1} \\cos{\\left(\\alpha \\right)} + 2 f_{2} \\cos{\\left(\\frac{2 \\pi}{3} + \\alpha \\right)} + 2 f_{3} \\cos{\\left(\\frac{4 \\pi}{3} + \\alpha \\right)}\\right) \\cos{\\left(\\phi \\right)}\\right) \\sin{\\left(\\phi \\right)} \\sin{\\left(\\theta \\right)} \\cos{\\left(\\phi \\right)} - 2 \\left(m_{b} + m_{p}\\right) \\left(3 g \\cos{\\left(\\phi \\right)} - 2 l_{p} \\cos{\\left(\\theta \\right)} \\dot{\\phi}^{2}\\right) \\left(4 m_{b} + 3 m_{p} \\sin^{2}{\\left(\\phi \\right)} + m_{p}\\right) \\sin{\\left(\\theta \\right)} + 3 \\left(\\left(- l_{p} m_{p} \\left(\\sin{\\left(\\phi \\right)} \\cos{\\left(\\theta \\right)} \\dot{\\phi}^{2} + \\sin{\\left(\\phi \\right)} \\cos{\\left(\\theta \\right)} \\dot{\\theta}^{2} + 2 \\sin{\\left(\\theta \\right)} \\cos{\\left(\\phi \\right)} \\dot{\\phi} \\dot{\\theta}\\right) + 2 f_{1} \\cos{\\left(\\alpha \\right)} + 2 f_{2} \\cos{\\left(\\frac{2 \\pi}{3} + \\alpha \\right)} + 2 f_{3} \\cos{\\left(\\frac{4 \\pi}{3} + \\alpha \\right)}\\right) \\sin{\\left(\\phi \\right)} \\sin{\\left(\\theta \\right)} - \\left(- l_{p} m_{p} \\sin{\\left(\\theta \\right)} \\dot{\\theta}^{2} + 2 f_{1} \\sin{\\left(\\alpha \\right)} + 2 f_{2} \\sin{\\left(\\frac{2 \\pi}{3} + \\alpha \\right)} + 2 f_{3} \\sin{\\left(\\frac{4 \\pi}{3} + \\alpha \\right)}\\right) \\cos{\\left(\\theta \\right)}\\right) \\left(4 m_{b} + 3 m_{p} \\sin^{2}{\\left(\\phi \\right)} + m_{p}\\right)}{l_{p} \\left(16 m_{b}^{2} - 12 m_{b} m_{p} \\cos^{2}{\\left(\\phi \\right)} \\cos^{2}{\\left(\\theta \\right)} + 20 m_{b} m_{p} - 3 m_{p}^{2} \\cos^{2}{\\left(\\phi \\right)} \\cos^{2}{\\left(\\theta \\right)} + 4 m_{p}^{2}\\right)}\\end{matrix}\\right]$"
      ],
      "text/plain": [
       "⎡                                                                                                  \n",
       "⎢                                                                                                  \n",
       "⎢                                                                                                  \n",
       "⎢                                                                                                  \n",
       "⎢                                                                                                  \n",
       "⎢                                                                                                  \n",
       "⎢                                                                                                  \n",
       "⎢                                                                                                  \n",
       "⎢                                                                                                  \n",
       "⎢                                                                                                  \n",
       "⎢                                                                                                  \n",
       "⎢                                                                                                  \n",
       "⎢                                                                                                  \n",
       "⎢                                                                                                  \n",
       "⎢                                                                                                  \n",
       "⎢                                                                                                  \n",
       "⎢                                                                                                  \n",
       "⎢                        2                                          2           2                  \n",
       "⎢- 12⋅g⋅m_b⋅mₚ⋅sin(φ)⋅sin (θ)⋅cos(φ) + 6⋅g⋅m_b⋅mₚ⋅sin(2⋅φ) - 12⋅g⋅mₚ ⋅sin(φ)⋅sin (θ)⋅cos(φ) - 9⋅g⋅m\n",
       "⎢                                                                                                  \n",
       "⎢──────────────────────────────────────────────────────────────────────────────────────────────────\n",
       "⎢                                                                                                  \n",
       "⎢                                                                                                  \n",
       "⎢                                                                                                  \n",
       "⎢                                                                                                  \n",
       "⎢                                                                                                  \n",
       "⎢                                                                                                  \n",
       "⎢                                                                                                  \n",
       "⎢                                                                                         ⎛     ⎛  \n",
       "⎢                                                                                    3⋅mₚ⋅⎜3⋅mₚ⋅⎜2⋅\n",
       "⎢                                                                                         ⎝     ⎝  \n",
       "⎢                                                                                    ──────────────\n",
       "⎢                                                                                                  \n",
       "⎢                                                                                                  \n",
       "⎢                                                                                                  \n",
       "⎢                                                                                                  \n",
       "⎢                                                                                                  \n",
       "⎢                                                                                                  \n",
       "⎢                                                                                                  \n",
       "⎢                                                                                                  \n",
       "⎣                                                                                                  \n",
       "\n",
       "                                                                                                   \n",
       "                                                                                                   \n",
       "                                                                                                   \n",
       "                                                                                                   \n",
       "                                                                                                   \n",
       "                                                                                                   \n",
       "                                                                                                   \n",
       "                                                                                                   \n",
       "                                                                                                   \n",
       "                                                                                                   \n",
       "                                                                                          ⎛     ⎛  \n",
       "                                                                                       mₚ⋅⎜3⋅mₚ⋅⎜2⋅\n",
       "                                                                                          ⎝     ⎝  \n",
       "                                                                                       ────────────\n",
       "                                                                                                   \n",
       "                                                                                                   \n",
       "                                                                                                   \n",
       " 2                  2            2                                  2            2                 \n",
       "ₚ ⋅sin(φ)⋅cos(φ)⋅cos (θ) + 6⋅g⋅mₚ ⋅sin(2⋅φ) + 8⋅lₚ⋅m_b⋅mₚ⋅sin(φ)⋅sin (θ)⋅cos(θ)⋅φ̇  - 8⋅lₚ⋅m_b⋅mₚ⋅s\n",
       "                                                                                                   \n",
       "───────────────────────────────────────────────────────────────────────────────────────────────────\n",
       "                                                                                                   \n",
       "                                                                                                   \n",
       "                                                                                                   \n",
       "                                                                                                   \n",
       "                                                                                                   \n",
       "                                                                                                   \n",
       "                                                                                                   \n",
       "                                              ⎛        ⎛               2                  2        \n",
       "(m_b + mₚ)⋅(3⋅g⋅sin(φ) + 4⋅lₚ⋅sin(θ)⋅φ̇⋅θ̇) + 3⋅⎜- lₚ⋅mₚ⋅⎝sin(φ)⋅cos(θ)⋅φ̇  + sin(φ)⋅cos(θ)⋅θ̇  + 2\n",
       "                                              ⎝                                                    \n",
       "───────────────────────────────────────────────────────────────────────────────────────────────────\n",
       "                                                                                                   \n",
       "                                                                                                   \n",
       "                                                                                                   \n",
       "                                                                                                   \n",
       "                                                                                                   \n",
       "                                                                                                   \n",
       "                                                                                                   \n",
       "                                                                                                   \n",
       "                                                                                                   \n",
       "\n",
       "                                                                                                   \n",
       "                                                                                                   \n",
       "                                                                                                   \n",
       "                                                                                                   \n",
       "                                                                                                   \n",
       "                                                                                                   \n",
       "                                                                                                   \n",
       "                                                                                                   \n",
       "                                                                                                   \n",
       "                                                                                                   \n",
       "                                              ⎛        ⎛               2                  2        \n",
       "(m_b + mₚ)⋅(3⋅g⋅sin(φ) + 4⋅lₚ⋅sin(θ)⋅φ̇⋅θ̇) + 3⋅⎜- lₚ⋅mₚ⋅⎝sin(φ)⋅cos(θ)⋅φ̇  + sin(φ)⋅cos(θ)⋅θ̇  + 2\n",
       "                                              ⎝                                                    \n",
       "───────────────────────────────────────────────────────────────────────────────────────────────────\n",
       "                                                                                                   \n",
       "                                                                                                   \n",
       "                                                                                                   \n",
       "             2                              2          2           2            2          2       \n",
       "in(φ)⋅cos(θ)⋅φ̇  - 8⋅lₚ⋅m_b⋅mₚ⋅sin(φ)⋅cos(θ)⋅θ̇  + 8⋅lₚ⋅mₚ ⋅sin(φ)⋅sin (θ)⋅cos(θ)⋅φ̇  + 6⋅lₚ⋅mₚ ⋅si\n",
       "                                                                                                   \n",
       "───────────────────────────────────────────────────────────────────────────────────────────────────\n",
       "                                                                                                   \n",
       "                                                                                                   \n",
       "                                                                                                   \n",
       "                                                                                                   \n",
       "                                                                                                   \n",
       "                                                                                                   \n",
       "                                                                                                   \n",
       "              ⎞                         ⎛2⋅π    ⎞           ⎛4⋅π    ⎞⎞       ⎞                     \n",
       "⋅sin(θ)⋅cos(φ)⋅φ̇⋅θ̇⎠ + 2⋅f₁⋅cos(α) + 2⋅f₂⋅cos⎜─── + α⎟ + 2⋅f₃⋅cos⎜─── + α⎟⎟⋅cos(φ)⎟⋅sin(φ)⋅sin(θ)⋅\n",
       "                                        ⎝ 3     ⎠           ⎝ 3     ⎠⎠       ⎠                     \n",
       "───────────────────────────────────────────────────────────────────────────────────────────────────\n",
       "                                                                                                   \n",
       "                                                                                                   \n",
       "                                                                                                   \n",
       "                                                                        ⎛     ⎛                    \n",
       "                                                                       -⎜3⋅mₚ⋅⎜2⋅(m_b + mₚ)⋅(3⋅g⋅si\n",
       "                                                                        ⎝     ⎝                    \n",
       "                                                                       ────────────────────────────\n",
       "                                                                                                   \n",
       "                                                                                                   \n",
       "\n",
       "                                                                                                   \n",
       "                                                                                                   \n",
       "                                                                                                   \n",
       "                                                                                                   \n",
       "                                                                                                   \n",
       "                                                                                                   \n",
       "                                                                                                   \n",
       "                                                                                                   \n",
       "                                                                                                   \n",
       "                                                                                                   \n",
       "              ⎞                         ⎛2⋅π    ⎞           ⎛4⋅π    ⎞⎞       ⎞                     \n",
       "⋅sin(θ)⋅cos(φ)⋅φ̇⋅θ̇⎠ + 2⋅f₁⋅cos(α) + 2⋅f₂⋅cos⎜─── + α⎟ + 2⋅f₃⋅cos⎜─── + α⎟⎟⋅cos(φ)⎟⋅sin(φ)⋅sin(θ)⋅\n",
       "                                        ⎝ 3     ⎠           ⎝ 3     ⎠⎠       ⎠                     \n",
       "───────────────────────────────────────────────────────────────────────────────────────────────────\n",
       "                                                                                                   \n",
       "                                                                                                   \n",
       "                                                                                                   \n",
       "    2            2          2           3     2          2           3     2          2            \n",
       "n(φ)⋅sin (θ)⋅cos(θ)⋅θ̇  + 6⋅lₚ⋅mₚ ⋅sin(φ)⋅cos (θ)⋅φ̇  + 6⋅lₚ⋅mₚ ⋅sin(φ)⋅cos (θ)⋅θ̇  - 8⋅lₚ⋅mₚ ⋅sin(\n",
       "                                                                                                   \n",
       "───────────────────────────────────────────────────────────────────────────────────────────────────\n",
       "                                                                                                   \n",
       "                                                                                                   \n",
       "                                                                                                   \n",
       "                                                                                                   \n",
       "                                                                                                   \n",
       "                                                                                                   \n",
       "                                                                                                   \n",
       "                ⎛                           2⎞ ⎛                2        ⎞            ⎛⎛        ⎛  \n",
       "cos(φ) + 2⋅(m_b + mₚ)⋅⎝-3⋅g⋅cos(φ) + 2⋅lₚ⋅cos(θ)⋅φ̇ ⎠⋅⎝4⋅m_b + 3⋅mₚ⋅sin (φ) + mₚ⎠⋅sin(θ) + 3⋅⎜⎜- lₚ\n",
       "                                                                                      ⎝⎝           \n",
       "───────────────────────────────────────────────────────────────────────────────────────────────────\n",
       "                                                                                                   \n",
       "                                                                                                   \n",
       "                                                                                                   \n",
       "                            ⎛        ⎛               2                  2                      ⎞   \n",
       "n(φ) + 4⋅lₚ⋅sin(θ)⋅φ̇⋅θ̇) + 3⋅⎜- lₚ⋅mₚ⋅⎝sin(φ)⋅cos(θ)⋅φ̇  + sin(φ)⋅cos(θ)⋅θ̇  + 2⋅sin(θ)⋅cos(φ)⋅φ̇⋅\n",
       "                            ⎝                                                                      \n",
       "───────────────────────────────────────────────────────────────────────────────────────────────────\n",
       "                                                                                                   \n",
       "                                                                                                   \n",
       "\n",
       "                                                                                                   \n",
       "                                                                                                   \n",
       "                                                                                                   \n",
       "                                                                                                   \n",
       "                                                                                                   \n",
       "                                                                                                   \n",
       "                                                                                                   \n",
       "                                                                                                   \n",
       "                                                                                                   \n",
       "                                                                                                   \n",
       "                ⎛                          2⎞ ⎛                2        ⎞            ⎛⎛        ⎛   \n",
       "cos(φ) - 2⋅(m_b + mₚ)⋅⎝3⋅g⋅cos(φ) - 2⋅lₚ⋅cos(θ)⋅φ̇ ⎠⋅⎝4⋅m_b + 3⋅mₚ⋅sin (φ) + mₚ⎠⋅sin(θ) + 3⋅⎜⎜- lₚ⋅\n",
       "                                                                                     ⎝⎝            \n",
       "───────────────────────────────────────────────────────────────────────────────────────────────────\n",
       "                                                                                                   \n",
       "                                                                                                   \n",
       "                                                                                                   \n",
       "    2          2                2                                   ⎛2⋅π⎞                       ⎛2⋅\n",
       "φ)⋅cos(θ)⋅φ̇  - 8⋅lₚ⋅mₚ ⋅sin(φ)⋅cos(θ)⋅θ̇  + 16⋅m_b⋅f₁⋅cos(α) - 16⋅m_b⋅f₂⋅sin⎜───⎟⋅sin(α) + 16⋅m_b⋅\n",
       "                                                                    ⎝ 3 ⎠                       ⎝ 3\n",
       "───────────────────────────────────────────────────────────────────────────────────────────────────\n",
       "                                                                                                   \n",
       "                                                                                                   \n",
       "                                                                                                   \n",
       "                                                                                                   \n",
       "                                                                                                   \n",
       "                                                                                                   \n",
       "                                                                                                   \n",
       "             2                  2                      ⎞                         ⎛2⋅π    ⎞         \n",
       "⋅mₚ⋅⎝sin(φ)⋅cos(θ)⋅φ̇  + sin(φ)⋅cos(θ)⋅θ̇  + 2⋅sin(θ)⋅cos(φ)⋅φ̇⋅θ̇⎠ + 2⋅f₁⋅cos(α) + 2⋅f₂⋅cos⎜─── + \n",
       "                                                                                 ⎝ 3     ⎠         \n",
       "───────────────────────────────────────────────────────────────────────────────────────────────────\n",
       "                                                                                         ⎛         \n",
       "                                                                                      lₚ⋅⎝4⋅m_b + 3\n",
       "                                                                                                   \n",
       "                      ⎛2⋅π    ⎞           ⎛4⋅π    ⎞⎞       ⎞                                     ⎛ \n",
       "θ̇⎠ + 2⋅f₁⋅cos(α) + 2⋅f₂⋅cos⎜─── + α⎟ + 2⋅f₃⋅cos⎜─── + α⎟⎟⋅cos(φ)⎟⋅sin(φ)⋅sin(θ)⋅cos(φ) - 2⋅(m_b + \n",
       "                      ⎝ 3     ⎠           ⎝ 3     ⎠⎠       ⎠                                       \n",
       "───────────────────────────────────────────────────────────────────────────────────────────────────\n",
       "                                                                                                   \n",
       "                                                                                                   \n",
       "\n",
       "                                              ẋ                                                   \n",
       "                                                                                                   \n",
       "                                              ẏ                                                   \n",
       "                                                                                                   \n",
       "                                              α̇                                                   \n",
       "                                                                                                   \n",
       "                                              φ̇                                                   \n",
       "                                                                                                   \n",
       "                                              θ̇                                                   \n",
       "                                                                                                   \n",
       "            2                  2                      ⎞                         ⎛2⋅π    ⎞          \n",
       "mₚ⋅⎝sin(φ)⋅cos(θ)⋅φ̇  + sin(φ)⋅cos(θ)⋅θ̇  + 2⋅sin(θ)⋅cos(φ)⋅φ̇⋅θ̇⎠ + 2⋅f₁⋅cos(α) + 2⋅f₂⋅cos⎜─── + α\n",
       "                                                                                ⎝ 3     ⎠          \n",
       "───────────────────────────────────────────────────────────────────────────────────────────────────\n",
       "             ⎛      2                2       2                      2    2       2          2⎞     \n",
       "2⋅(m_b + mₚ)⋅⎝16⋅m_b  - 12⋅m_b⋅mₚ⋅cos (φ)⋅cos (θ) + 20⋅m_b⋅mₚ - 3⋅mₚ ⋅cos (φ)⋅cos (θ) + 4⋅mₚ ⎠     \n",
       "                                                                                                   \n",
       "π⎞                       ⎛4⋅π⎞                       ⎛4⋅π⎞                                         \n",
       "f₂⋅cos⎜───⎟⋅cos(α) - 16⋅m_b⋅f₃⋅sin⎜───⎟⋅sin(α) + 16⋅m_b⋅f₃⋅cos⎜───⎟⋅cos(α) - 12⋅mₚ⋅f₁⋅sin(α)⋅sin(φ)\n",
       " ⎠                       ⎝ 3 ⎠                       ⎝ 3 ⎠                                         \n",
       "───────────────────────────────────────────────────────────────────────────────────────────────────\n",
       "             2                2       2                      2    2       2          2             \n",
       "       16⋅m_b  - 12⋅m_b⋅mₚ⋅cos (φ)⋅cos (θ) + 20⋅m_b⋅mₚ - 3⋅mₚ ⋅cos (φ)⋅cos (θ) + 4⋅mₚ              \n",
       "                                                                                                   \n",
       "                                      l_b⋅(f₁ + f₂ + f₃)                                           \n",
       "                                      ──────────────────                                           \n",
       "                                           I_{bzz}                                                 \n",
       "                                                                                                   \n",
       "  ⎛4⋅π    ⎞⎞                 ⎛                2                         ⎛2⋅π    ⎞           ⎛4⋅π   \n",
       "α⎟ + 2⋅f₃⋅cos⎜─── + α⎟⎟⋅sin(φ)⋅sin(θ) - ⎜- lₚ⋅mₚ⋅sin(θ)⋅θ̇  + 2⋅f₁⋅sin(α) + 2⋅f₂⋅sin⎜─── + α⎟ + 2⋅f\n",
       "  ⎝ 3     ⎠⎠                 ⎝                                          ⎝ 3     ⎠           ⎝ 3    \n",
       "───────────────────────────────────────────────────────────────────────────────────────────────────\n",
       "       2        ⎞ ⎛      2                2       2                      2    2       2          2⎞\n",
       "⋅mₚ⋅sin (φ) + mₚ⎠⋅⎝16⋅m_b  - 12⋅m_b⋅mₚ⋅cos (φ)⋅cos (θ) + 20⋅m_b⋅mₚ - 3⋅mₚ ⋅cos (φ)⋅cos (θ) + 4⋅mₚ ⎠\n",
       "                                                                                                   \n",
       "                         2⎞ ⎛                2        ⎞            ⎛⎛        ⎛               2     \n",
       "mₚ)⋅⎝3⋅g⋅cos(φ) - 2⋅lₚ⋅cos(θ)⋅φ̇ ⎠⋅⎝4⋅m_b + 3⋅mₚ⋅sin (φ) + mₚ⎠⋅sin(θ) + 3⋅⎜⎜- lₚ⋅mₚ⋅⎝sin(φ)⋅cos(θ)⋅\n",
       "                                                                   ⎝⎝                              \n",
       "───────────────────────────────────────────────────────────────────────────────────────────────────\n",
       "        ⎛      2                2       2                      2    2       2          2⎞          \n",
       "     lₚ⋅⎝16⋅m_b  - 12⋅m_b⋅mₚ⋅cos (φ)⋅cos (θ) + 20⋅m_b⋅mₚ - 3⋅mₚ ⋅cos (φ)⋅cos (θ) + 4⋅mₚ ⎠          \n",
       "\n",
       "                                                                                                   \n",
       "                                                                                                   \n",
       "                                                                                                   \n",
       "                                                                                                   \n",
       "                                                                                                   \n",
       "                                                                                                   \n",
       "                                                                                                   \n",
       "                                                                                                   \n",
       "                                                                                                   \n",
       "                                                                                                   \n",
       " ⎛4⋅π    ⎞⎞                 ⎛                2                         ⎛2⋅π    ⎞           ⎛4⋅π    \n",
       "⎟ + 2⋅f₃⋅cos⎜─── + α⎟⎟⋅sin(φ)⋅sin(θ) - ⎜- lₚ⋅mₚ⋅sin(θ)⋅θ̇  + 2⋅f₁⋅sin(α) + 2⋅f₂⋅sin⎜─── + α⎟ + 2⋅f₃\n",
       " ⎝ 3     ⎠⎠                 ⎝                                          ⎝ 3     ⎠           ⎝ 3     \n",
       "───────────────────────────────────────────────────────────────────────────────────────────────────\n",
       "                                                                                                   \n",
       "                                                                                                   \n",
       "                                                                                                   \n",
       "                           2                                    ⎛2⋅π⎞           2                  \n",
       "⋅sin(θ)⋅cos(θ) - 12⋅mₚ⋅f₁⋅cos(α)⋅cos (θ) + 16⋅mₚ⋅f₁⋅cos(α) + 12⋅mₚ⋅f₂⋅sin⎜───⎟⋅sin(α)⋅cos (θ) - 16⋅\n",
       "                                                                ⎝ 3 ⎠                              \n",
       "───────────────────────────────────────────────────────────────────────────────────────────────────\n",
       "                                                                                                   \n",
       "                                                                                                   \n",
       "                                                                                                   \n",
       "                                                                                                   \n",
       "                                                                                                   \n",
       "                                                                                                   \n",
       "                                                                                                   \n",
       " ⎞⎞       ⎞ ⎛                2        ⎞⎞                                                           \n",
       "₃⋅sin⎜─── + α⎟⎟⋅cos(θ)⎟⋅⎝4⋅m_b + 3⋅mₚ⋅sin (φ) + mₚ⎠⎟⋅sin(φ)⋅sin(θ)⋅cos(φ) + 2⋅(m_b + mₚ)⋅(3⋅g⋅sin(φ\n",
       " ⎠⎠       ⎠                            ⎠                                                           \n",
       "───────────────────────────────────────────────────────────────────────────────────────────────────\n",
       "                                                                                                   \n",
       "⋅cos(θ)                                                                                            \n",
       "                                                                                                   \n",
       "             2                      ⎞                         ⎛2⋅π    ⎞           ⎛4⋅π    ⎞⎞       \n",
       "φ̇  + sin(φ)⋅cos(θ)⋅θ̇  + 2⋅sin(θ)⋅cos(φ)⋅φ̇⋅θ̇⎠ + 2⋅f₁⋅cos(α) + 2⋅f₂⋅cos⎜─── + α⎟ + 2⋅f₃⋅cos⎜─── +\n",
       "                                                              ⎝ 3     ⎠           ⎝ 3     ⎠⎠       \n",
       "───────────────────────────────────────────────────────────────────────────────────────────────────\n",
       "                                                                                                   \n",
       "                                                                                                   \n",
       "\n",
       "                                                                                                   \n",
       "                                                                                                   \n",
       "                                                                                                   \n",
       "                                                                                                   \n",
       "                                                                                                   \n",
       "                                                                                                   \n",
       "                                                                                                   \n",
       "                                                                                                   \n",
       "                                                                                                   \n",
       "                                                                                                   \n",
       "⎞⎞       ⎞ ⎛                2        ⎞⎞          ⎛                2                         ⎛2⋅π   \n",
       "⋅sin⎜─── + α⎟⎟⋅cos(θ)⎟⋅⎝4⋅m_b + 3⋅mₚ⋅sin (φ) + mₚ⎠⎟⋅cos(θ) - ⎜- lₚ⋅mₚ⋅sin(θ)⋅θ̇  + 2⋅f₁⋅sin(α) + 2⋅\n",
       "⎠⎠       ⎠                            ⎠          ⎝                                          ⎝ 3    \n",
       "───────────────────────────────────────────────────────────────────────────────────────────────────\n",
       "                                                                                                   \n",
       "                                                                                                   \n",
       "                                                                                                   \n",
       "⎛2⋅π⎞                      ⎛2⋅π⎞                                                                ⎛2⋅\n",
       "mₚ⋅f₂⋅sin⎜───⎟⋅sin(α) - 12⋅mₚ⋅f₂⋅sin⎜───⎟⋅sin(φ)⋅sin(θ)⋅cos(α)⋅cos(θ) - 12⋅mₚ⋅f₂⋅sin(α)⋅sin(φ)⋅sin(\n",
       "⎝ 3 ⎠                      ⎝ 3 ⎠                                                                ⎝ 3\n",
       "───────────────────────────────────────────────────────────────────────────────────────────────────\n",
       "                                                                                                   \n",
       "                                                                                                   \n",
       "                                                                                                   \n",
       "                                                                                                   \n",
       "                                                                                                   \n",
       "                                                                                                   \n",
       "                                                                                                   \n",
       "         ⎛      2                2       2                      2    2       2          2⎞     ⎛   \n",
       ") + 4⋅lₚ⋅sin(θ)⋅φ̇⋅θ̇)⋅⎝16⋅m_b  - 12⋅m_b⋅mₚ⋅cos (φ)⋅cos (θ) + 20⋅m_b⋅mₚ - 3⋅mₚ ⋅cos (φ)⋅cos (θ) + 4\n",
       "                                                                                               ⎝   \n",
       "───────────────────────────────────────────────────────────────────────────────────────────────────\n",
       "                                                                                                   \n",
       "                                                                                                   \n",
       "                                                                                                   \n",
       "          ⎛                2                         ⎛2⋅π    ⎞           ⎛4⋅π    ⎞⎞       ⎞ ⎛      \n",
       " α⎟⎟⋅sin(φ)⋅sin(θ) - ⎜- lₚ⋅mₚ⋅sin(θ)⋅θ̇  + 2⋅f₁⋅sin(α) + 2⋅f₂⋅sin⎜─── + α⎟ + 2⋅f₃⋅sin⎜─── + α⎟⎟⋅cos\n",
       "          ⎝                                          ⎝ 3     ⎠           ⎝ 3     ⎠⎠       ⎠        \n",
       "───────────────────────────────────────────────────────────────────────────────────────────────────\n",
       "                                                                                                   \n",
       "                                                                                                   \n",
       "\n",
       "                                                                                                   \n",
       "                                                                                                   \n",
       "                                                                                                   \n",
       "                                                                                                   \n",
       "                                                                                                   \n",
       "                                                                                                   \n",
       "                                                                                                   \n",
       "                                                                                                   \n",
       "                                                                                                   \n",
       "                                                                                                   \n",
       " ⎞           ⎛4⋅π    ⎞⎞ ⎛      2                2       2                      2    2       2      \n",
       "f₂⋅sin⎜─── + α⎟ + 2⋅f₃⋅sin⎜─── + α⎟⎟⋅⎝16⋅m_b  - 12⋅m_b⋅mₚ⋅cos (φ)⋅cos (θ) + 20⋅m_b⋅mₚ - 3⋅mₚ ⋅cos (\n",
       " ⎠           ⎝ 3     ⎠⎠                                                                            \n",
       "───────────────────────────────────────────────────────────────────────────────────────────────────\n",
       "                                                                                                   \n",
       "                                                                                                   \n",
       "                                                                                                   \n",
       "π⎞                      ⎛2⋅π⎞           2                  ⎛2⋅π⎞                      ⎛4⋅π⎞        \n",
       "θ)⋅cos⎜───⎟⋅cos(θ) - 12⋅mₚ⋅f₂⋅cos⎜───⎟⋅cos(α)⋅cos (θ) + 16⋅mₚ⋅f₂⋅cos⎜───⎟⋅cos(α) + 12⋅mₚ⋅f₃⋅sin⎜───\n",
       " ⎠                      ⎝ 3 ⎠                              ⎝ 3 ⎠                      ⎝ 3 ⎠        \n",
       "───────────────────────────────────────────────────────────────────────────────────────────────────\n",
       "                                                                                                   \n",
       "                                                                                                   \n",
       "                                                                                                   \n",
       "                                                                                                   \n",
       "                                                                                                   \n",
       "                                                                                                   \n",
       "                                                                                                   \n",
       "   ⎛               2                  2                      ⎞                         ⎛2⋅π    ⎞   \n",
       "⋅mₚ ⎠ - 3⋅⎜lₚ⋅mₚ⋅⎝sin(φ)⋅cos(θ)⋅φ̇  + sin(φ)⋅cos(θ)⋅θ̇  + 2⋅sin(θ)⋅cos(φ)⋅φ̇⋅θ̇⎠ - 2⋅f₁⋅cos(α) - 2⋅\n",
       "                                                                                       ⎝ 3     ⎠   \n",
       "───────────────────────────────────────────────────────────────────────────────────────────────────\n",
       "                                                                                                   \n",
       "                                                                                                   \n",
       "                                                                                                   \n",
       "          2        ⎞⎞                                                                              \n",
       "(θ)⎟⋅⎝4⋅m_b + 3⋅mₚ⋅sin (φ) + mₚ⎠⎟                                                                  \n",
       "                    ⎠                                                                              \n",
       "──────────────────────                                                                             \n",
       "                                                                                                   \n",
       "                                                                                                   \n",
       "\n",
       "                                                                                                   \n",
       "                                                                                                   \n",
       "                                                                                                   \n",
       "                                                                                                   \n",
       "                                                                                                   \n",
       "                                                                                                   \n",
       "                                                                                                   \n",
       "                                                                                                   \n",
       "                                                                                                   \n",
       "                                                                                                   \n",
       "    2⎞                                                                                             \n",
       "φ)⋅cos (θ) + 4⋅mₚ ⎠                                                                                \n",
       "                                                                                                   \n",
       "──────                                                                                             \n",
       "                                                                                                   \n",
       "                                                                                                   \n",
       "                                                                                                   \n",
       "   2                  ⎛4⋅π⎞                      ⎛4⋅π⎞                                             \n",
       "⎟⋅sin(α)⋅cos (θ) - 16⋅mₚ⋅f₃⋅sin⎜───⎟⋅sin(α) - 12⋅mₚ⋅f₃⋅sin⎜───⎟⋅sin(φ)⋅sin(θ)⋅cos(α)⋅cos(θ) - 12⋅mₚ\n",
       "                      ⎝ 3 ⎠                      ⎝ 3 ⎠                                             \n",
       "───────────────────────────────────────────────────────────────────────────────────────────────────\n",
       "                                                                                                   \n",
       "                                                                                                   \n",
       "                                                                                                   \n",
       "                                                                                                   \n",
       "                                                                                                   \n",
       "                                                                                                   \n",
       "                                                                                                   \n",
       "        ⎛4⋅π    ⎞⎞ ⎛      2                2       2                      2    2       2          2\n",
       "f₂⋅cos⎜─── + α⎟ - 2⋅f₃⋅cos⎜─── + α⎟⎟⋅⎝16⋅m_b  - 12⋅m_b⋅mₚ⋅cos (φ)⋅cos (θ) + 20⋅m_b⋅mₚ - 3⋅mₚ ⋅cos (\n",
       "        ⎝ 3     ⎠⎠                                                                                 \n",
       "───────────────────────────────────────────────────────────────────────────────────────────────────\n",
       "                                                                                                   \n",
       "                                                                                                   \n",
       "                                                                                                   \n",
       "                                                                                                   \n",
       "                                                                                                   \n",
       "                                                                                                   \n",
       "                                                                                                   \n",
       "                                                                                                   \n",
       "                                                                                                   \n",
       "\n",
       "                                                                                              ⎤\n",
       "                                                                                             ⎥\n",
       "                                                                                              ⎥\n",
       "                                                                                             ⎥\n",
       "                                                                                              ⎥\n",
       "                                                                                             ⎥\n",
       "                                                                                              ⎥\n",
       "                                                                                             ⎥\n",
       "                                                                                              ⎥\n",
       "                                                                                             ⎥\n",
       "                                                                                             ⎥\n",
       "                                                                                                   \n",
       "                                                                                             ⎥\n",
       "                                                                                             ⎥\n",
       "                                                                                             ⎥\n",
       "                                                                                             ⎥\n",
       "                                                                                             ⎥\n",
       "                   ⎛4⋅π⎞                      ⎛4⋅π⎞           2                  ⎛4⋅π⎞       ⎥\n",
       "⋅f₃⋅sin(α)⋅sin(φ)⋅sin(θ)⋅cos⎜───⎟⋅cos(θ) - 12⋅mₚ⋅f₃⋅cos⎜───⎟⋅cos(α)⋅cos (θ) + 16⋅mₚ⋅f₃⋅cos⎜───⎟⋅cos\n",
       "                   ⎝ 3 ⎠                      ⎝ 3 ⎠                              ⎝ 3 ⎠       ⎥\n",
       "─────────────────────────────────────────────────────────────────────────────────────────────⎥\n",
       "                                                                                             ⎥\n",
       "                                                                                             ⎥\n",
       "                                                                                             ⎥\n",
       "                                                                                             ⎥\n",
       "                                                                                             ⎥\n",
       "                                                                                             ⎥\n",
       "                                                                                             ⎥\n",
       "⎞                                                                                            ⎥\n",
       "φ)⋅cos (θ) + 4⋅mₚ ⎠⋅cos(φ)                                                                         \n",
       "                                                                                             ⎥\n",
       "────────                                                                                     ⎥\n",
       "                                                                                             ⎥\n",
       "                                                                                             ⎥\n",
       "                                                                                             ⎥\n",
       "                                                                                             ⎥\n",
       "                                                                                                   \n",
       "                                                                                             ⎥\n",
       "                                                                                             ⎥\n",
       "                                                                                             ⎥\n",
       "                                                                                             ⎦"
      ]
     },
     "metadata": {},
     "output_type": "display_data"
    }
   ],
   "source": [
    "LL = Lagrangian(Sw, BodyB, BodyP)\n",
    "LM = LagrangesMethod(LL, q, forcelist = fl, frame = Sw)\n",
    "\n",
    "eom = simplify(LM.form_lagranges_equations())\n",
    "f = simplify(LM.rhs())\n",
    "display(eom)\n",
    "display(f)"
   ]
  },
  {
   "cell_type": "code",
   "execution_count": 16,
   "id": "b5de4794-126e-4f87-ae99-832f9b4d0c25",
   "metadata": {},
   "outputs": [],
   "source": [
    "#mlatex(eom)"
   ]
  },
  {
   "cell_type": "markdown",
   "id": "fc71b952-c2ee-42b5-a3fa-bddcfddfc414",
   "metadata": {},
   "source": [
    "## linearization"
   ]
  },
  {
   "cell_type": "code",
   "execution_count": 17,
   "id": "ca606ef9-e7a2-489d-b74e-14616fca479a",
   "metadata": {},
   "outputs": [
    {
     "data": {
      "text/latex": [
       "$\\displaystyle \\left[\\begin{matrix}0 & 0 & 0 & 0 & 0 & 1 & 0 & 0 & 0 & 0\\\\0 & 0 & 0 & 0 & 0 & 0 & 1 & 0 & 0 & 0\\\\0 & 0 & 0 & 0 & 0 & 0 & 0 & 1 & 0 & 0\\\\0 & 0 & 0 & 0 & 0 & 0 & 0 & 0 & 1 & 0\\\\0 & 0 & 0 & 0 & 0 & 0 & 0 & 0 & 0 & 1\\\\0 & 0 & 0 & 0 & \\frac{3 g m_{p}}{- 4 m_{b} - m_{p}} & 0 & 0 & 0 & 0 & 0\\\\0 & 0 & 0 & \\frac{3 g m_{p}}{4 m_{b} + m_{p}} & 0 & 0 & 0 & 0 & 0 & 0\\\\0 & 0 & 0 & 0 & 0 & 0 & 0 & 0 & 0 & 0\\\\0 & 0 & 0 & \\frac{6 g \\left(m_{b} + m_{p}\\right)}{l_{p} \\left(4 m_{b} + m_{p}\\right)} & 0 & 0 & 0 & 0 & 0 & 0\\\\0 & 0 & 0 & 0 & \\frac{6 g \\left(m_{b} + m_{p}\\right)}{l_{p} \\left(4 m_{b} + m_{p}\\right)} & 0 & 0 & 0 & 0 & 0\\end{matrix}\\right]$"
      ],
      "text/plain": [
       "⎡0  0  0         0                0         1  0  0  0  0⎤\n",
       "⎢                                                        ⎥\n",
       "⎢0  0  0         0                0         0  1  0  0  0⎥\n",
       "⎢                                                        ⎥\n",
       "⎢0  0  0         0                0         0  0  1  0  0⎥\n",
       "⎢                                                        ⎥\n",
       "⎢0  0  0         0                0         0  0  0  1  0⎥\n",
       "⎢                                                        ⎥\n",
       "⎢0  0  0         0                0         0  0  0  0  1⎥\n",
       "⎢                                                        ⎥\n",
       "⎢                               3⋅g⋅mₚ                   ⎥\n",
       "⎢0  0  0         0           ───────────    0  0  0  0  0⎥\n",
       "⎢                            -4⋅m_b - mₚ                 ⎥\n",
       "⎢                                                        ⎥\n",
       "⎢             3⋅g⋅mₚ                                     ⎥\n",
       "⎢0  0  0    ──────────            0         0  0  0  0  0⎥\n",
       "⎢           4⋅m_b + mₚ                                   ⎥\n",
       "⎢                                                        ⎥\n",
       "⎢0  0  0         0                0         0  0  0  0  0⎥\n",
       "⎢                                                        ⎥\n",
       "⎢          6⋅g⋅(m_b + mₚ)                                ⎥\n",
       "⎢0  0  0  ───────────────         0         0  0  0  0  0⎥\n",
       "⎢         lₚ⋅(4⋅m_b + mₚ)                                ⎥\n",
       "⎢                                                        ⎥\n",
       "⎢                           6⋅g⋅(m_b + mₚ)               ⎥\n",
       "⎢0  0  0         0         ───────────────  0  0  0  0  0⎥\n",
       "⎣                          lₚ⋅(4⋅m_b + mₚ)               ⎦"
      ]
     },
     "metadata": {},
     "output_type": "display_data"
    },
    {
     "data": {
      "text/latex": [
       "$\\displaystyle \\left[\\begin{matrix}0 & 0 & 0\\\\0 & 0 & 0\\\\0 & 0 & 0\\\\0 & 0 & 0\\\\0 & 0 & 0\\\\0 & \\frac{4 \\sin{\\left(\\frac{2 \\pi}{3} \\right)}}{- 4 m_{b} - m_{p}} & \\frac{4 \\sin{\\left(\\frac{4 \\pi}{3} \\right)}}{- 4 m_{b} - m_{p}}\\\\\\frac{4}{4 m_{b} + m_{p}} & \\frac{4 \\cos{\\left(\\frac{2 \\pi}{3} \\right)}}{4 m_{b} + m_{p}} & \\frac{4 \\cos{\\left(\\frac{4 \\pi}{3} \\right)}}{4 m_{b} + m_{p}}\\\\\\frac{l_{b}}{I_{bzz}} & \\frac{l_{b}}{I_{bzz}} & \\frac{l_{b}}{I_{bzz}}\\\\\\frac{6}{l_{p} \\left(4 m_{b} + m_{p}\\right)} & \\frac{6 \\cos{\\left(\\frac{2 \\pi}{3} \\right)}}{l_{p} \\left(4 m_{b} + m_{p}\\right)} & \\frac{6 \\cos{\\left(\\frac{4 \\pi}{3} \\right)}}{l_{p} \\left(4 m_{b} + m_{p}\\right)}\\\\0 & \\frac{6 \\sin{\\left(\\frac{2 \\pi}{3} \\right)}}{l_{p} \\left(4 m_{b} + m_{p}\\right)} & \\frac{6 \\sin{\\left(\\frac{4 \\pi}{3} \\right)}}{l_{p} \\left(4 m_{b} + m_{p}\\right)}\\end{matrix}\\right]$"
      ],
      "text/plain": [
       "⎡       0                0                0       ⎤\n",
       "⎢                                                 ⎥\n",
       "⎢       0                0                0       ⎥\n",
       "⎢                                                 ⎥\n",
       "⎢       0                0                0       ⎥\n",
       "⎢                                                 ⎥\n",
       "⎢       0                0                0       ⎥\n",
       "⎢                                                 ⎥\n",
       "⎢       0                0                0       ⎥\n",
       "⎢                                                 ⎥\n",
       "⎢                         ⎛2⋅π⎞            ⎛4⋅π⎞  ⎥\n",
       "⎢                    4⋅sin⎜───⎟       4⋅sin⎜───⎟  ⎥\n",
       "⎢                         ⎝ 3 ⎠            ⎝ 3 ⎠  ⎥\n",
       "⎢       0           ───────────      ───────────  ⎥\n",
       "⎢                   -4⋅m_b - mₚ      -4⋅m_b - mₚ  ⎥\n",
       "⎢                                                 ⎥\n",
       "⎢                        ⎛2⋅π⎞            ⎛4⋅π⎞   ⎥\n",
       "⎢                   4⋅cos⎜───⎟       4⋅cos⎜───⎟   ⎥\n",
       "⎢      4                 ⎝ 3 ⎠            ⎝ 3 ⎠   ⎥\n",
       "⎢  ──────────       ──────────       ──────────   ⎥\n",
       "⎢  4⋅m_b + mₚ       4⋅m_b + mₚ       4⋅m_b + mₚ   ⎥\n",
       "⎢                                                 ⎥\n",
       "⎢      l_b              l_b              l_b      ⎥\n",
       "⎢    ───────          ───────          ───────    ⎥\n",
       "⎢    I_{bzz}          I_{bzz}          I_{bzz}    ⎥\n",
       "⎢                                                 ⎥\n",
       "⎢                         ⎛2⋅π⎞            ⎛4⋅π⎞  ⎥\n",
       "⎢                    6⋅cos⎜───⎟       6⋅cos⎜───⎟  ⎥\n",
       "⎢       6                 ⎝ 3 ⎠            ⎝ 3 ⎠  ⎥\n",
       "⎢───────────────  ───────────────  ───────────────⎥\n",
       "⎢lₚ⋅(4⋅m_b + mₚ)  lₚ⋅(4⋅m_b + mₚ)  lₚ⋅(4⋅m_b + mₚ)⎥\n",
       "⎢                                                 ⎥\n",
       "⎢                         ⎛2⋅π⎞            ⎛4⋅π⎞  ⎥\n",
       "⎢                    6⋅sin⎜───⎟       6⋅sin⎜───⎟  ⎥\n",
       "⎢                         ⎝ 3 ⎠            ⎝ 3 ⎠  ⎥\n",
       "⎢       0         ───────────────  ───────────────⎥\n",
       "⎣                 lₚ⋅(4⋅m_b + mₚ)  lₚ⋅(4⋅m_b + mₚ)⎦"
      ]
     },
     "metadata": {},
     "output_type": "display_data"
    }
   ],
   "source": [
    "linearizer = LM.to_linearizer(q_ind=q, qd_ind=qd)\n",
    "op_point = {x: 0, x.diff(t): 0, y: 0, y.diff(t): 0, alpha: 0, alpha.diff(t): 0,\n",
    "            phi: 0, phi.diff(t): 0, theta: 0, theta.diff(t): 0,\n",
    "            f1: 0, f2: 0, f3: 0}\n",
    "A, B = linearizer.linearize(A_and_B = True, op_point = op_point)\n",
    "\n",
    "display(simplify(A))\n",
    "display(simplify(B))"
   ]
  },
  {
   "cell_type": "code",
   "execution_count": 18,
   "id": "cd601fd6-b800-4099-9a88-ded1472120f1",
   "metadata": {},
   "outputs": [],
   "source": [
    "# only pendulum case: just for debug\n",
    "#q = Matrix([phi, theta])\n",
    "#qd = q.diff(t)\n",
    "#LL = Lagrangian(Sw, BodyP)\n",
    "#LM = LagrangesMethod(LL, q, forcelist = fl, frame = Sw)\n",
    "\n",
    "#eom = LM.form_lagranges_equations().simplify()\n",
    "\n",
    "#linearizer = LM.to_linearizer(q_ind=q, qd_ind=qd)\n",
    "#op_point = {x: 0, x.diff(t): 0, y: 0, y.diff(t): 0, alpha: 0, alpha.diff(t): 0,\n",
    "#            phi: 0, phi.diff(t): 0, theta: 0, theta.diff(t): 0,\n",
    "#            f1: 0, f2: 0, f3: 0}\n",
    "#A, B = linearizer.linearize(A_and_B = True, op_point = op_point)\n",
    "\n",
    "#display(simplify(A))\n",
    "#display(simplify(B))"
   ]
  },
  {
   "cell_type": "code",
   "execution_count": 19,
   "id": "6dd1ffab-a876-4487-9aeb-5cb773a07f1d",
   "metadata": {},
   "outputs": [
    {
     "data": {
      "image/png": "[encoded data removed]",
      "text/latex": [
       "$\\displaystyle \\frac{I_{bzz} \\dot{\\alpha}^{2}}{2} + \\frac{m_{b} \\left(\\dot{x}^{2} + \\dot{y}^{2}\\right)}{2}$"
      ],
      "text/plain": [
       "         2       ⎛ 2    2⎞\n",
       "I_{bzz}⋅α̇    m_b⋅⎝ẋ  + ẏ ⎠\n",
       "────────── + ─────────────\n",
       "    2              2      "
      ]
     },
     "metadata": {},
     "output_type": "display_data"
    },
    {
     "data": {
      "image/png": "[encoded data removed]",
      "text/latex": [
       "$\\displaystyle 0$"
      ],
      "text/plain": [
       "0"
      ]
     },
     "metadata": {},
     "output_type": "display_data"
    }
   ],
   "source": [
    "display(BodyB.kinetic_energy(Sw).simplify())\n",
    "display(BodyB.potential_energy.simplify())"
   ]
  },
  {
   "cell_type": "code",
   "execution_count": 20,
   "id": "ca835557-331c-4df7-9d43-0d0297675b49",
   "metadata": {},
   "outputs": [
    {
     "data": {
      "image/png": "[encoded data removed]",
      "text/latex": [
       "$\\displaystyle \\frac{m_{p} \\left(l_{p}^{2} \\cos^{2}{\\left(\\theta \\right)} \\dot{\\phi}^{2} + l_{p}^{2} \\dot{\\theta}^{2} + 3 l_{p} \\sin{\\left(\\phi \\right)} \\sin{\\left(\\theta \\right)} \\dot{\\theta} \\dot{y} - 3 l_{p} \\cos{\\left(\\phi \\right)} \\cos{\\left(\\theta \\right)} \\dot{\\phi} \\dot{y} + 3 l_{p} \\cos{\\left(\\theta \\right)} \\dot{\\theta} \\dot{x} + 3 \\dot{x}^{2} + 3 \\dot{y}^{2}\\right)}{6}$"
      ],
      "text/plain": [
       "   ⎛  2    2     2     2  2                                                                        \n",
       "mₚ⋅⎝lₚ ⋅cos (θ)⋅φ̇  + lₚ ⋅θ̇  + 3⋅lₚ⋅sin(φ)⋅sin(θ)⋅θ̇⋅ẏ - 3⋅lₚ⋅cos(φ)⋅cos(θ)⋅φ̇⋅ẏ + 3⋅lₚ⋅cos(θ)⋅θ\n",
       "───────────────────────────────────────────────────────────────────────────────────────────────────\n",
       "                                                      6                                            \n",
       "\n",
       "  2      2⎞\n",
       "̇⋅ẋ + 3⋅ẋ  + 3⋅ẏ ⎠\n",
       "───────────\n",
       "           "
      ]
     },
     "metadata": {},
     "output_type": "display_data"
    },
    {
     "data": {
      "image/png": "[encoded data removed]",
      "text/latex": [
       "$\\displaystyle \\frac{g l_{p} m_{p} \\cos{\\left(\\phi \\right)} \\cos{\\left(\\theta \\right)}}{2}$"
      ],
      "text/plain": [
       "g⋅lₚ⋅mₚ⋅cos(φ)⋅cos(θ)\n",
       "─────────────────────\n",
       "          2          "
      ]
     },
     "metadata": {},
     "output_type": "display_data"
    }
   ],
   "source": [
    "display(BodyP.kinetic_energy(Sw).simplify())\n",
    "display(BodyP.potential_energy.simplify())"
   ]
  },
  {
   "cell_type": "markdown",
   "id": "370b782f-d1ef-4b98-a9bf-11e153df60c0",
   "metadata": {},
   "source": [
    "# Verification"
   ]
  },
  {
   "cell_type": "markdown",
   "id": "82ecd2f1-9b3d-4f0c-bd11-843208f00d66",
   "metadata": {},
   "source": [
    "## rotation matrices"
   ]
  },
  {
   "cell_type": "code",
   "execution_count": 21,
   "id": "3d697119-1b23-4bf8-bbcf-1fc2187c863c",
   "metadata": {},
   "outputs": [
    {
     "data": {
      "text/latex": [
       "$\\displaystyle \\left[\\begin{matrix}\\cos{\\left(\\theta \\right)} & 0 & \\sin{\\left(\\theta \\right)}\\\\\\sin{\\left(\\phi \\right)} \\sin{\\left(\\theta \\right)} & \\cos{\\left(\\phi \\right)} & - \\sin{\\left(\\phi \\right)} \\cos{\\left(\\theta \\right)}\\\\- \\sin{\\left(\\theta \\right)} \\cos{\\left(\\phi \\right)} & \\sin{\\left(\\phi \\right)} & \\cos{\\left(\\phi \\right)} \\cos{\\left(\\theta \\right)}\\end{matrix}\\right]$"
      ],
      "text/plain": [
       "⎡    cos(θ)        0         sin(θ)    ⎤\n",
       "⎢                                      ⎥\n",
       "⎢sin(φ)⋅sin(θ)   cos(φ)  -sin(φ)⋅cos(θ)⎥\n",
       "⎢                                      ⎥\n",
       "⎣-sin(θ)⋅cos(φ)  sin(φ)  cos(φ)⋅cos(θ) ⎦"
      ]
     },
     "metadata": {},
     "output_type": "display_data"
    }
   ],
   "source": [
    "rotx_phi = Matrix([[1, 0, 0], [0, cos(phi), -sin(phi)], [0, sin(phi), cos(phi)]])\n",
    "roty_theta = Matrix([[cos(theta), 0, sin(theta)], [0, 1, 0], [-sin(theta), 0, cos(theta)]])\n",
    "#display(rotx_phi)\n",
    "#display(roty_theta)\n",
    "\n",
    "rot_op = rotx_phi * roty_theta\n",
    "display(rot_op)"
   ]
  },
  {
   "cell_type": "markdown",
   "id": "dbeac9f5-80a0-4d37-bb6b-a614c882f717",
   "metadata": {},
   "source": [
    "## cog position of pendulum"
   ]
  },
  {
   "cell_type": "code",
   "execution_count": 22,
   "id": "ac3c0a2e-147b-49ad-8199-3b8cdb5a3426",
   "metadata": {},
   "outputs": [],
   "source": [
    "vec_p = Matrix([[0], [0], [Rational(1, 2)*lp]])\n",
    "xi, eta, zeta = rot_op * vec_p\n",
    "#display(xi)\n",
    "#display(eta)\n",
    "#display(zeta)"
   ]
  },
  {
   "cell_type": "markdown",
   "id": "b2231f8f-fea5-4f4e-928f-dbc428b40772",
   "metadata": {},
   "source": [
    "## angular velocity of pendulum"
   ]
  },
  {
   "cell_type": "code",
   "execution_count": 23,
   "id": "a3e3767e-915d-4f6b-9812-b8a382293884",
   "metadata": {},
   "outputs": [
    {
     "data": {
      "text/latex": [
       "$\\displaystyle \\left[\\begin{matrix}\\frac{l_{p}^{2} m_{p}}{12} & 0 & 0\\\\0 & \\frac{l_{p}^{2} m_{p}}{12} & 0\\\\0 & 0 & 0\\end{matrix}\\right]$"
      ],
      "text/plain": [
       "⎡  2              ⎤\n",
       "⎢lₚ ⋅mₚ           ⎥\n",
       "⎢──────    0     0⎥\n",
       "⎢  12             ⎥\n",
       "⎢                 ⎥\n",
       "⎢          2      ⎥\n",
       "⎢        lₚ ⋅mₚ   ⎥\n",
       "⎢  0     ──────  0⎥\n",
       "⎢          12     ⎥\n",
       "⎢                 ⎥\n",
       "⎣  0       0     0⎦"
      ]
     },
     "metadata": {},
     "output_type": "display_data"
    },
    {
     "data": {
      "text/latex": [
       "$\\displaystyle \\left[\\begin{matrix}\\cos{\\left(\\theta \\right)} \\dot{\\phi}\\\\\\dot{\\theta}\\\\\\sin{\\left(\\theta \\right)} \\dot{\\phi}\\end{matrix}\\right]$"
      ],
      "text/plain": [
       "⎡cos(θ)⋅φ̇⎤\n",
       "⎢        ⎥\n",
       "⎢   θ̇    ⎥\n",
       "⎢        ⎥\n",
       "⎣sin(θ)⋅φ̇⎦"
      ]
     },
     "metadata": {},
     "output_type": "display_data"
    }
   ],
   "source": [
    "inertia_mat = Matrix([[Ipxx, 0, 0], [0, Ipxx, 0], [0, 0, 0]])\n",
    "display(inertia_mat)\n",
    "omega_p = Matrix([[0], [theta.diff(t)], [0]]) + roty_theta.transpose() * Matrix([[phi.diff(t)], [0], [0]])\n",
    "display(omega_p)"
   ]
  },
  {
   "cell_type": "markdown",
   "id": "486cb770-44de-4263-9238-b0d828d2ca1e",
   "metadata": {},
   "source": [
    "## comparison of kinetic energy from algebraic calculation and sympy rigidbody"
   ]
  },
  {
   "cell_type": "code",
   "execution_count": 24,
   "id": "bdfd80ed-1c8c-4503-8838-04ce33ddcf38",
   "metadata": {},
   "outputs": [
    {
     "data": {
      "image/png": "[encoded data removed]",
      "text/latex": [
       "$\\displaystyle \\frac{m_{p} \\left(l_{p}^{2} \\cos^{2}{\\left(\\theta \\right)} \\dot{\\phi}^{2} + l_{p}^{2} \\dot{\\theta}^{2} + 3 l_{p} \\sin{\\left(\\phi \\right)} \\sin{\\left(\\theta \\right)} \\dot{\\theta} \\dot{y} - 3 l_{p} \\cos{\\left(\\phi \\right)} \\cos{\\left(\\theta \\right)} \\dot{\\phi} \\dot{y} + 3 l_{p} \\cos{\\left(\\theta \\right)} \\dot{\\theta} \\dot{x} + 3 \\dot{x}^{2} + 3 \\dot{y}^{2}\\right)}{6}$"
      ],
      "text/plain": [
       "   ⎛  2    2     2     2  2                                                                        \n",
       "mₚ⋅⎝lₚ ⋅cos (θ)⋅φ̇  + lₚ ⋅θ̇  + 3⋅lₚ⋅sin(φ)⋅sin(θ)⋅θ̇⋅ẏ - 3⋅lₚ⋅cos(φ)⋅cos(θ)⋅φ̇⋅ẏ + 3⋅lₚ⋅cos(θ)⋅θ\n",
       "───────────────────────────────────────────────────────────────────────────────────────────────────\n",
       "                                                      6                                            \n",
       "\n",
       "  2      2⎞\n",
       "̇⋅ẋ + 3⋅ẋ  + 3⋅ẏ ⎠\n",
       "───────────\n",
       "           "
      ]
     },
     "metadata": {},
     "output_type": "display_data"
    },
    {
     "data": {
      "image/png": "[encoded data removed]",
      "text/latex": [
       "$\\displaystyle \\frac{m_{p} \\left(l_{p}^{2} \\cos^{2}{\\left(\\theta \\right)} \\dot{\\phi}^{2} + l_{p}^{2} \\dot{\\theta}^{2} + 3 l_{p} \\sin{\\left(\\phi \\right)} \\sin{\\left(\\theta \\right)} \\dot{\\theta} \\dot{y} - 3 l_{p} \\cos{\\left(\\phi \\right)} \\cos{\\left(\\theta \\right)} \\dot{\\phi} \\dot{y} + 3 l_{p} \\cos{\\left(\\theta \\right)} \\dot{\\theta} \\dot{x} + 3 \\dot{x}^{2} + 3 \\dot{y}^{2}\\right)}{6}$"
      ],
      "text/plain": [
       "   ⎛  2    2     2     2  2                                                                        \n",
       "mₚ⋅⎝lₚ ⋅cos (θ)⋅φ̇  + lₚ ⋅θ̇  + 3⋅lₚ⋅sin(φ)⋅sin(θ)⋅θ̇⋅ẏ - 3⋅lₚ⋅cos(φ)⋅cos(θ)⋅φ̇⋅ẏ + 3⋅lₚ⋅cos(θ)⋅θ\n",
       "───────────────────────────────────────────────────────────────────────────────────────────────────\n",
       "                                                      6                                            \n",
       "\n",
       "  2      2⎞\n",
       "̇⋅ẋ + 3⋅ẋ  + 3⋅ẏ ⎠\n",
       "───────────\n",
       "           "
      ]
     },
     "metadata": {},
     "output_type": "display_data"
    },
    {
     "data": {
      "image/png": "[encoded data removed]",
      "text/latex": [
       "$\\displaystyle 0$"
      ],
      "text/plain": [
       "0"
      ]
     },
     "metadata": {},
     "output_type": "display_data"
    }
   ],
   "source": [
    "Tpt = Rational(1, 2) * mp * ((x.diff(t) + xi.diff(t))**2 + (y.diff(t) + eta.diff(t))**2 + zeta.diff(t)**2)\n",
    "Tpr = Rational(1, 2) * omega_p.transpose() * inertia_mat * omega_p\n",
    "\n",
    "display(simplify(Tpt + Tpr[0, 0]))\n",
    "display(BodyP.kinetic_energy(Sw).simplify())\n",
    "\n",
    "display(simplify(Tpt + Tpr[0, 0]) - BodyP.kinetic_energy(Sw).simplify())"
   ]
  },
  {
   "cell_type": "code",
   "execution_count": null,
   "id": "9ed05519-e88f-4b1c-a8ce-a1dbc9a567b4",
   "metadata": {},
   "outputs": [],
   "source": []
  }
 ],
 "metadata": {
  "kernelspec": {
   "display_name": "Python 3 (ipykernel)",
   "language": "python",
   "name": "python3"
  },
  "language_info": {
   "codemirror_mode": {
    "name": "ipython",
    "version": 3
   },
   "file_extension": ".py",
   "mimetype": "text/x-python",
   "name": "python",
   "nbconvert_exporter": "python",
   "pygments_lexer": "ipython3",
   "version": "3.8.10"
  }
 },
 "nbformat": 4,
 "nbformat_minor": 5
}
